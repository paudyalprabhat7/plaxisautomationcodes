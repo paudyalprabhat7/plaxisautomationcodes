{
 "cells": [
  {
   "cell_type": "code",
   "execution_count": 66,
   "metadata": {
    "scrolled": true
   },
   "outputs": [
    {
     "data": {
      "text/plain": [
       "<BoreholeVolume {83418CC9-04A7-4758-908F-D8843862F23F}>"
      ]
     },
     "execution_count": 66,
     "metadata": {},
     "output_type": "execute_result"
    }
   ],
   "source": [
    "#start a new session and define preliminary geometry\n",
    "s_i.new()\n",
    "\n",
    "#create rectangulargeometry\n",
    "g_i.SoilContour.initializerectangular(-1,-1,1,1)\n",
    "\n",
    "#create borehole\n",
    "g_i.borehole(0, 0)\n",
    "\n",
    "#create soillayer\n",
    "g_i.soillayer(2)"
   ]
  },
  {
   "cell_type": "code",
   "execution_count": 67,
   "metadata": {},
   "outputs": [
    {
     "data": {
      "text/plain": [
       "<SoilMat {8916E938-2219-4A28-A421-3B6DA3A158EC}>"
      ]
     },
     "execution_count": 67,
     "metadata": {},
     "output_type": "execute_result"
    }
   ],
   "source": [
    "#create a sample material\n",
    "matprop = ['MaterialName', 'SoilModel', 'Gref', 'cref', 'phi', 'gammaUnsat', 'gammaSat', 'nu']\n",
    "matval = ['Sand', 2, 19230.7692, 5.0, 28.0, 20.0, 20.0, 0.3]\n",
    "\n",
    "g_i.soilmat(matprop[0], matval[0], matprop[1], matval[1], matprop[2], matval[2], matprop[3], matval[3], matprop[4], matval[4], matprop[5], matval[5], matprop[6], matval[6], matprop[7], matval[7])"
   ]
  },
  {
   "cell_type": "code",
   "execution_count": 68,
   "metadata": {},
   "outputs": [
    {
     "data": {
      "text/plain": [
       "'OK'"
      ]
     },
     "execution_count": 68,
     "metadata": {},
     "output_type": "execute_result"
    }
   ],
   "source": [
    "#set material to soil volume\n",
    "g_i.setmaterial(g_i.Soillayer_1.Soil, g_i.Sand)"
   ]
  },
  {
   "cell_type": "code",
   "execution_count": 69,
   "metadata": {},
   "outputs": [
    {
     "data": {
      "text/plain": [
       "'OK'"
      ]
     },
     "execution_count": 69,
     "metadata": {},
     "output_type": "execute_result"
    }
   ],
   "source": [
    "#go to structure mode\n",
    "g_i.gotostructures()"
   ]
  },
  {
   "cell_type": "code",
   "execution_count": 70,
   "metadata": {},
   "outputs": [],
   "source": [
    "#define a surface\n",
    "Polygon_1 = g_i.surface(0.5,0.5,0.0,-0.5,0.5,0.0,-0.5,-0.5,0.0,0.5,-0.5,0.0)\n"
   ]
  },
  {
   "cell_type": "code",
   "execution_count": 71,
   "metadata": {
    "scrolled": true
   },
   "outputs": [],
   "source": [
    "#createsurfacedisplacement\n",
    "g_i.surfdispl(Polygon_1)\n",
    "\n",
    "#fix x and y directions\n",
    "g_i.Polygon_1.SurfaceDisplacement.Displacement_x = 'fixed'\n",
    "g_i.Polygon_1.SurfaceDisplacement.Displacement_y = 'fixed'\n",
    "\n",
    "#prescribe z displacement\n",
    "g_i.Polygon_1.SurfaceDisplacement.Displacement_y = 'Prescribed'\n",
    "\n",
    "#static component\n",
    "g_i.Polygon_1.SurfaceDisplacement.uz = -1.0\n",
    "\n",
    "#dynamic component\n",
    "DisplacementMultiplier_1 = g_i.displmultiplier()\n",
    "\n",
    "g_i.Polygon_1.SurfaceDisplacement.SurfaceDisplacement.Multiplierz = DisplacementMultiplier_1\n",
    "\n",
    "g_i.DisplacementMultiplier_1.Amplitude = 0.025\n",
    "g_i.DisplacementMultiplier_1.Frequency = 10.0"
   ]
  },
  {
   "cell_type": "code",
   "execution_count": 72,
   "metadata": {},
   "outputs": [
    {
     "data": {
      "text/plain": [
       "[<Point {5E1FC566-BA1B-4588-8B47-D17FB524CB31}>,\n",
       " <Point {4F72D545-4D95-4809-8217-64C808BD45BA}>,\n",
       " <Line {EF6F8757-97AC-4141-902B-980DE7C4BD86}>,\n",
       " <EmbeddedBeam {AA617E2B-08D8-490D-848F-F26EA8C18EAC}>]"
      ]
     },
     "execution_count": 72,
     "metadata": {},
     "output_type": "execute_result"
    }
   ],
   "source": [
    "#create the geophone\n",
    "g_i.embeddedbeam(0.0,0.0,-1.0,0.0,0.0,-1.04)\n"
   ]
  },
  {
   "cell_type": "code",
   "execution_count": 73,
   "metadata": {},
   "outputs": [
    {
     "data": {
      "text/plain": [
       "<EmbeddedBeamMat {8A2806A7-A03F-49C5-834A-1EE4967E37E5}>"
      ]
     },
     "execution_count": 73,
     "metadata": {},
     "output_type": "execute_result"
    }
   ],
   "source": [
    "g_i.embeddedbeammat('MaterialName', 'Geophone2', 'Elasticity', 0, 'BeamType', 0, 'PredefinedBeamType', 0, 'SkinResistance', 0, 'Diameter', 0.03, 'E', 200000000.0, 'w', 76.5, 'Size', 0.03, 'Tstart', 100, 'Tend', 100, 'A', 0.000706858347057703, 'Iyy', 3.97607820219958E-8, 'Izz', 3.97607820219958E-8, 'Iyz', 0)"
   ]
  },
  {
   "cell_type": "code",
   "execution_count": 74,
   "metadata": {},
   "outputs": [
    {
     "data": {
      "text/plain": [
       "'OK'"
      ]
     },
     "execution_count": 74,
     "metadata": {},
     "output_type": "execute_result"
    }
   ],
   "source": [
    "#assign material to geophone\n",
    "g_i.setmaterial(g_i.Line_1.EmbeddedBeam, g_i.Geophone2)"
   ]
  },
  {
   "cell_type": "code",
   "execution_count": null,
   "metadata": {},
   "outputs": [],
   "source": []
  }
 ],
 "metadata": {
  "kernelspec": {
   "display_name": "PLAXIS Python 3",
   "language": "python",
   "name": "plaxis_python3"
  },
  "language_info": {
   "codemirror_mode": {
    "name": "ipython",
    "version": 3
   },
   "file_extension": ".py",
   "mimetype": "text/x-python",
   "name": "python",
   "nbconvert_exporter": "python",
   "pygments_lexer": "ipython3",
   "version": "3.7.4"
  },
  "toc": {
   "base_numbering": 1,
   "nav_menu": {},
   "number_sections": false,
   "sideBar": true,
   "skip_h1_title": false,
   "title_cell": "Table of Contents",
   "title_sidebar": "Contents",
   "toc_cell": false,
   "toc_position": {
    "height": "calc(100% - 180px)",
    "left": "10px",
    "top": "150px",
    "width": "203.312px"
   },
   "toc_section_display": true,
   "toc_window_display": true
  }
 },
 "nbformat": 4,
 "nbformat_minor": 2
}
